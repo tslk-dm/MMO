{
 "cells": [
  {
   "cell_type": "markdown",
   "metadata": {
    "id": "MLIWq0_Q04_y"
   },
   "source": [
    "Рубежный контроль №2\n",
    "\n",
    "Тислюк Дмитрий \n",
    "\n",
    "ИУ5-22М"
   ]
  },
  {
   "cell_type": "code",
   "execution_count": 20,
   "metadata": {
    "id": "j6Dxe0W5x-nF"
   },
   "outputs": [],
   "source": [
    "import numpy as np\n",
    "import pandas as pd\n",
    "from typing import Dict, Tuple\n",
    "from sklearn.feature_extraction.text import CountVectorizer, TfidfVectorizer\n",
    "from sklearn.model_selection import GridSearchCV, RandomizedSearchCV\n",
    "from sklearn.metrics import accuracy_score, balanced_accuracy_score\n",
    "from sklearn.metrics import precision_score, recall_score, f1_score, classification_report\n",
    "from sklearn.metrics import confusion_matrix\n",
    "from sklearn.model_selection import cross_val_score\n",
    "from sklearn.pipeline import Pipeline\n",
    "from sklearn.metrics import mean_absolute_error, mean_squared_error, mean_squared_log_error, median_absolute_error, r2_score \n",
    "from sklearn.metrics import roc_curve, roc_auc_score\n",
    "from sklearn.naive_bayes import ComplementNB\n",
    "from sklearn.ensemble import RandomForestClassifier\n",
    "import seaborn as sns\n",
    "from collections import Counter\n",
    "from sklearn.datasets import fetch_20newsgroups\n",
    "import matplotlib.pyplot as plt\n",
    "\n",
    "%matplotlib inline \n",
    "sns.set(style=\"ticks\")"
   ]
  },
  {
   "cell_type": "code",
   "execution_count": 21,
   "metadata": {
    "id": "9WcUxczex_Rb"
   },
   "outputs": [],
   "source": [
    "categories = [\"comp.sys.ibm.pc.hardware\", \"rec.motorcycles\", \"sci.electronics\", \"alt.atheism\"]\n",
    "newsgroups = fetch_20newsgroups(subset='train', categories=categories)\n",
    "data = newsgroups['data']"
   ]
  },
  {
   "cell_type": "code",
   "execution_count": 22,
   "metadata": {
    "id": "JA6NaI4ryGfU"
   },
   "outputs": [],
   "source": [
    "def accuracy_score_for_classes(\n",
    "    y_true: np.ndarray, \n",
    "    y_pred: np.ndarray) -> Dict[int, float]:\n",
    "    \"\"\"\n",
    "    Вычисление метрики accuracy для каждого класса\n",
    "    y_true - истинные значения классов\n",
    "    y_pred - предсказанные значения классов\n",
    "    Возвращает словарь: ключ - метка класса, \n",
    "    значение - Accuracy для данного класса\n",
    "    \"\"\"\n",
    "    # Для удобства фильтрации сформируем Pandas DataFrame \n",
    "    d = {'t': y_true, 'p': y_pred}\n",
    "    df = pd.DataFrame(data=d)\n",
    "    # Метки классов\n",
    "    classes = np.unique(y_true)\n",
    "    # Результирующий словарь\n",
    "    res = dict()\n",
    "    # Перебор меток классов\n",
    "    for c in classes:\n",
    "        # отфильтруем данные, которые соответствуют \n",
    "        # текущей метке класса в истинных значениях\n",
    "        temp_data_flt = df[df['t']==c]\n",
    "        # расчет accuracy для заданной метки класса\n",
    "        temp_acc = accuracy_score(\n",
    "            temp_data_flt['t'].values, \n",
    "            temp_data_flt['p'].values)\n",
    "        # сохранение результата в словарь\n",
    "        res[c] = temp_acc\n",
    "    return res\n",
    "\n",
    "def print_accuracy_score_for_classes(\n",
    "    y_true: np.ndarray, \n",
    "    y_pred: np.ndarray):\n",
    "    \"\"\"\n",
    "    Вывод метрики accuracy для каждого класса\n",
    "    \"\"\"\n",
    "    accs = accuracy_score_for_classes(y_true, y_pred)\n",
    "    if len(accs)>0:\n",
    "        print('Метка \\t Accuracy')\n",
    "    for i in accs:\n",
    "        print('{} \\t {}'.format(i, accs[i]))"
   ]
  },
  {
   "cell_type": "code",
   "execution_count": 23,
   "metadata": {
    "colab": {
     "base_uri": "https://localhost:8080/",
     "height": 0
    },
    "id": "_QNdmu6gyxjk",
    "outputId": "a093cd6c-7310-4662-bf5c-28a373cd671c"
   },
   "outputs": [
    {
     "name": "stdout",
     "output_type": "stream",
     "text": [
      "Количество сформированных признаков - 31660\n"
     ]
    }
   ],
   "source": [
    "vocabVect = CountVectorizer()\n",
    "vocabVect.fit(data)\n",
    "corpusVocab = vocabVect.vocabulary_\n",
    "print('Количество сформированных признаков - {}'.format(len(corpusVocab)))"
   ]
  },
  {
   "cell_type": "code",
   "execution_count": 24,
   "metadata": {
    "colab": {
     "base_uri": "https://localhost:8080/",
     "height": 0
    },
    "id": "fHTpHsQzyzlV",
    "outputId": "5273f8c4-6d67-43ff-e93a-7ae9205d4df5"
   },
   "outputs": [
    {
     "name": "stdout",
     "output_type": "stream",
     "text": [
      "bil=6823\n",
      "okcforum=21419\n",
      "osrhe=21683\n",
      "edu=11993\n",
      "bill=6827\n",
      "conner=9374\n",
      "subject=27588\n",
      "re=24066\n",
      "americans=5315\n"
     ]
    }
   ],
   "source": [
    "for i in list(corpusVocab)[1:10]:\n",
    "    print('{}={}'.format(i, corpusVocab[i]))"
   ]
  },
  {
   "cell_type": "code",
   "execution_count": 25,
   "metadata": {
    "colab": {
     "base_uri": "https://localhost:8080/",
     "height": 0
    },
    "id": "qJu89ZsPy2ZL",
    "outputId": "f46cc394-24da-486c-e09d-4ffb86fd1745"
   },
   "outputs": [
    {
     "data": {
      "text/plain": [
       "<2259x31660 sparse matrix of type '<class 'numpy.int64'>'\n",
       "\twith 310255 stored elements in Compressed Sparse Row format>"
      ]
     },
     "execution_count": 25,
     "metadata": {
      "tags": []
     },
     "output_type": "execute_result"
    }
   ],
   "source": [
    "test_features = vocabVect.transform(data)\n",
    "test_features"
   ]
  },
  {
   "cell_type": "code",
   "execution_count": 26,
   "metadata": {
    "colab": {
     "base_uri": "https://localhost:8080/",
     "height": 0
    },
    "id": "LgvTLSx5y5MN",
    "outputId": "d1c68d9d-f0a2-415e-99a2-f46b7e985db4"
   },
   "outputs": [
    {
     "data": {
      "text/plain": [
       "31660"
      ]
     },
     "execution_count": 26,
     "metadata": {
      "tags": []
     },
     "output_type": "execute_result"
    }
   ],
   "source": [
    "len(test_features.todense()[0].getA1())"
   ]
  },
  {
   "cell_type": "code",
   "execution_count": 29,
   "metadata": {
    "colab": {
     "base_uri": "https://localhost:8080/",
     "height": 0
    },
    "id": "RACbKcaBy7OM",
    "outputId": "97cf3d5c-09f6-43d0-ab56-68a38e68e60a"
   },
   "outputs": [
    {
     "data": {
      "text/plain": [
       "['zzr1100', 'zzzz', 'zzzzzz', '³ation', 'ýé']"
      ]
     },
     "execution_count": 29,
     "metadata": {
      "tags": []
     },
     "output_type": "execute_result"
    }
   ],
   "source": [
    "vocabVect.get_feature_names()[31655:]"
   ]
  },
  {
   "cell_type": "code",
   "execution_count": 30,
   "metadata": {
    "id": "ksCTbyTTy9TF"
   },
   "outputs": [],
   "source": [
    "def VectorizeAndClassify(vectorizers_list, classifiers_list):\n",
    "    for v in vectorizers_list:\n",
    "        for c in classifiers_list:\n",
    "            pipeline1 = Pipeline([(\"vectorizer\", v), (\"classifier\", c)])\n",
    "            score = cross_val_score(pipeline1, newsgroups['data'], newsgroups['target'], scoring='accuracy', cv=3).mean()\n",
    "            print('Векторизация - {}'.format(v))\n",
    "            print('Модель для классификации - {}'.format(c))\n",
    "            print('Accuracy = {}'.format(score))\n",
    "            print('===========================')"
   ]
  },
  {
   "cell_type": "code",
   "execution_count": 31,
   "metadata": {
    "colab": {
     "base_uri": "https://localhost:8080/",
     "height": 0
    },
    "id": "PIDkTffiy_zg",
    "outputId": "1717292a-9329-48e8-83e4-a8cda7596188"
   },
   "outputs": [
    {
     "name": "stdout",
     "output_type": "stream",
     "text": [
      "Векторизация - CountVectorizer(analyzer='word', binary=False, decode_error='strict',\n",
      "                dtype=<class 'numpy.int64'>, encoding='utf-8', input='content',\n",
      "                lowercase=True, max_df=1.0, max_features=None, min_df=1,\n",
      "                ngram_range=(1, 1), preprocessor=None, stop_words=None,\n",
      "                strip_accents=None, token_pattern='(?u)\\\\b\\\\w\\\\w+\\\\b',\n",
      "                tokenizer=None,\n",
      "                vocabulary={'00': 0, '000': 1, '0000': 2, '00000': 3,\n",
      "                            '0000000004': 4, '0000000005': 5, '0000000667': 6,\n",
      "                            '0000001200': 7, '000042': 8, '000094': 9,\n",
      "                            '0001': 10, '0001x7c': 11, '0002': 12, '0003': 13,\n",
      "                            '000406': 14, '0005111312': 15,\n",
      "                            '0005111312na1em': 16, '000531': 17, '00072': 18,\n",
      "                            '000851': 19, '000rpm': 20, '001': 21,\n",
      "                            '00100111b': 22, '0011': 23, '001125': 24,\n",
      "                            '0013': 25, '001813': 26, '002222': 27,\n",
      "                            '002937': 28, '003029': 29, ...})\n",
      "Модель для классификации - RandomForestClassifier(bootstrap=True, ccp_alpha=0.0, class_weight=None,\n",
      "                       criterion='gini', max_depth=None, max_features='auto',\n",
      "                       max_leaf_nodes=None, max_samples=None,\n",
      "                       min_impurity_decrease=0.0, min_impurity_split=None,\n",
      "                       min_samples_leaf=1, min_samples_split=2,\n",
      "                       min_weight_fraction_leaf=0.0, n_estimators=100,\n",
      "                       n_jobs=None, oob_score=False, random_state=None,\n",
      "                       verbose=0, warm_start=False)\n",
      "Accuracy = 0.9198760513501548\n",
      "===========================\n",
      "Векторизация - CountVectorizer(analyzer='word', binary=False, decode_error='strict',\n",
      "                dtype=<class 'numpy.int64'>, encoding='utf-8', input='content',\n",
      "                lowercase=True, max_df=1.0, max_features=None, min_df=1,\n",
      "                ngram_range=(1, 1), preprocessor=None, stop_words=None,\n",
      "                strip_accents=None, token_pattern='(?u)\\\\b\\\\w\\\\w+\\\\b',\n",
      "                tokenizer=None,\n",
      "                vocabulary={'00': 0, '000': 1, '0000': 2, '00000': 3,\n",
      "                            '0000000004': 4, '0000000005': 5, '0000000667': 6,\n",
      "                            '0000001200': 7, '000042': 8, '000094': 9,\n",
      "                            '0001': 10, '0001x7c': 11, '0002': 12, '0003': 13,\n",
      "                            '000406': 14, '0005111312': 15,\n",
      "                            '0005111312na1em': 16, '000531': 17, '00072': 18,\n",
      "                            '000851': 19, '000rpm': 20, '001': 21,\n",
      "                            '00100111b': 22, '0011': 23, '001125': 24,\n",
      "                            '0013': 25, '001813': 26, '002222': 27,\n",
      "                            '002937': 28, '003029': 29, ...})\n",
      "Модель для классификации - ComplementNB(alpha=1.0, class_prior=None, fit_prior=True, norm=False)\n",
      "Accuracy = 0.9641434262948207\n",
      "===========================\n",
      "Векторизация - TfidfVectorizer(analyzer='word', binary=False, decode_error='strict',\n",
      "                dtype=<class 'numpy.float64'>, encoding='utf-8',\n",
      "                input='content', lowercase=True, max_df=1.0, max_features=None,\n",
      "                min_df=1, ngram_range=(1, 1), norm='l2', preprocessor=None,\n",
      "                smooth_idf=True, stop_words=None, strip_accents=None,\n",
      "                sublinear_tf=False, token_pattern='(?u)\\\\b\\\\w\\\\w+\\\\b',\n",
      "                tokenizer=None, use...\n",
      "                vocabulary={'00': 0, '000': 1, '0000': 2, '00000': 3,\n",
      "                            '0000000004': 4, '0000000005': 5, '0000000667': 6,\n",
      "                            '0000001200': 7, '000042': 8, '000094': 9,\n",
      "                            '0001': 10, '0001x7c': 11, '0002': 12, '0003': 13,\n",
      "                            '000406': 14, '0005111312': 15,\n",
      "                            '0005111312na1em': 16, '000531': 17, '00072': 18,\n",
      "                            '000851': 19, '000rpm': 20, '001': 21,\n",
      "                            '00100111b': 22, '0011': 23, '001125': 24,\n",
      "                            '0013': 25, '001813': 26, '002222': 27,\n",
      "                            '002937': 28, '003029': 29, ...})\n",
      "Модель для классификации - RandomForestClassifier(bootstrap=True, ccp_alpha=0.0, class_weight=None,\n",
      "                       criterion='gini', max_depth=None, max_features='auto',\n",
      "                       max_leaf_nodes=None, max_samples=None,\n",
      "                       min_impurity_decrease=0.0, min_impurity_split=None,\n",
      "                       min_samples_leaf=1, min_samples_split=2,\n",
      "                       min_weight_fraction_leaf=0.0, n_estimators=100,\n",
      "                       n_jobs=None, oob_score=False, random_state=None,\n",
      "                       verbose=0, warm_start=False)\n",
      "Accuracy = 0.9096945551128818\n",
      "===========================\n",
      "Векторизация - TfidfVectorizer(analyzer='word', binary=False, decode_error='strict',\n",
      "                dtype=<class 'numpy.float64'>, encoding='utf-8',\n",
      "                input='content', lowercase=True, max_df=1.0, max_features=None,\n",
      "                min_df=1, ngram_range=(1, 1), norm='l2', preprocessor=None,\n",
      "                smooth_idf=True, stop_words=None, strip_accents=None,\n",
      "                sublinear_tf=False, token_pattern='(?u)\\\\b\\\\w\\\\w+\\\\b',\n",
      "                tokenizer=None, use...\n",
      "                vocabulary={'00': 0, '000': 1, '0000': 2, '00000': 3,\n",
      "                            '0000000004': 4, '0000000005': 5, '0000000667': 6,\n",
      "                            '0000001200': 7, '000042': 8, '000094': 9,\n",
      "                            '0001': 10, '0001x7c': 11, '0002': 12, '0003': 13,\n",
      "                            '000406': 14, '0005111312': 15,\n",
      "                            '0005111312na1em': 16, '000531': 17, '00072': 18,\n",
      "                            '000851': 19, '000rpm': 20, '001': 21,\n",
      "                            '00100111b': 22, '0011': 23, '001125': 24,\n",
      "                            '0013': 25, '001813': 26, '002222': 27,\n",
      "                            '002937': 28, '003029': 29, ...})\n",
      "Модель для классификации - ComplementNB(alpha=1.0, class_prior=None, fit_prior=True, norm=False)\n",
      "Accuracy = 0.9601593625498008\n",
      "===========================\n"
     ]
    }
   ],
   "source": [
    "vectorizers_list = [CountVectorizer(vocabulary = corpusVocab), TfidfVectorizer(vocabulary = corpusVocab)]\n",
    "classifiers_list = [RandomForestClassifier(), ComplementNB()]\n",
    "VectorizeAndClassify(vectorizers_list, classifiers_list)"
   ]
  },
  {
   "cell_type": "code",
   "execution_count": null,
   "metadata": {
    "id": "U0B81S210NLC"
   },
   "outputs": [],
   "source": []
  },
  {
   "cell_type": "markdown",
   "metadata": {
    "id": "XrBvCohp0UqW"
   },
   "source": [
    "Лучшую точность показал CountVectorizer и ComplementNB"
   ]
  }
 ],
 "metadata": {
  "colab": {
   "collapsed_sections": [],
   "name": "RK2.ipynb",
   "provenance": []
  },
  "kernelspec": {
   "display_name": "Python 3",
   "language": "python",
   "name": "python3"
  },
  "language_info": {
   "codemirror_mode": {
    "name": "ipython",
    "version": 3
   },
   "file_extension": ".py",
   "mimetype": "text/x-python",
   "name": "python",
   "nbconvert_exporter": "python",
   "pygments_lexer": "ipython3",
   "version": "3.6.3"
  }
 },
 "nbformat": 4,
 "nbformat_minor": 1
}
